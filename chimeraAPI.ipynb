{
 "cells": [
  {
   "cell_type": "markdown",
   "id": "c5937d7a",
   "metadata": {},
   "source": [
    "# API KEY"
   ]
  },
  {
   "cell_type": "code",
   "execution_count": 1,
   "id": "ab418b8a",
   "metadata": {},
   "outputs": [],
   "source": [
    "# Simpan API Key OpenRouter kamu\n",
    "OPENROUTER_API_KEY = \"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\"  # <-- Ganti dengan punyamu"
   ]
  },
  {
   "cell_type": "markdown",
   "id": "cb02d551",
   "metadata": {},
   "source": [
    "# Library"
   ]
  },
  {
   "cell_type": "code",
   "execution_count": 2,
   "id": "aba88f2c",
   "metadata": {},
   "outputs": [],
   "source": [
    "import json\n",
    "import os\n",
    "import faiss\n",
    "import numpy as np\n",
    "import requests\n",
    "from sentence_transformers import SentenceTransformer\n",
    "from gtts import gTTS\n",
    "from moviepy import TextClip, AudioFileClip, CompositeVideoClip"
   ]
  },
  {
   "cell_type": "code",
   "execution_count": 3,
   "id": "3fe4dad2",
   "metadata": {},
   "outputs": [],
   "source": [
    "# Load FAISS Index\n",
    "index = faiss.read_index(\"output/faiss_index.bin\")\n",
    "\n",
    "# Load Mapping sumber chunk\n",
    "with open(\"output/chunk_mapping.json\", \"r\", encoding=\"utf-8\") as f:\n",
    "    chunk_sources = json.load(f)\n",
    "\n",
    "# Load ulang semua chunk text\n",
    "with open(\"output/cleaned_text/epub_chunks_translated.json\", \"r\", encoding=\"utf-8\") as f:\n",
    "    data = json.load(f)\n",
    "\n",
    "# Gabungkan semua chunk\n",
    "all_chunks = []\n",
    "for book_title, chunks in data.items():\n",
    "    for chunk in chunks:\n",
    "        if chunk.strip():\n",
    "            all_chunks.append(chunk)\n",
    "\n",
    "# Load model embedding\n",
    "model = SentenceTransformer('sentence-transformers/all-MiniLM-L6-v2')\n"
   ]
  },
  {
   "cell_type": "code",
   "execution_count": 4,
   "id": "1e099196",
   "metadata": {},
   "outputs": [],
   "source": [
    "def search_best_chunk(question, top_k=1):\n",
    "    \"\"\"Cari chunk paling relevan untuk pertanyaan.\"\"\"\n",
    "    question_embedding = model.encode([question]).astype('float32')\n",
    "    D, I = index.search(question_embedding, top_k)\n",
    "\n",
    "    results = []\n",
    "    for idx in I[0]:\n",
    "        if idx < len(all_chunks):\n",
    "            results.append((chunk_sources[idx], all_chunks[idx]))\n",
    "    return results\n"
   ]
  },
  {
   "cell_type": "code",
   "execution_count": 5,
   "id": "9d1107e1",
   "metadata": {},
   "outputs": [],
   "source": [
    "import requests\n",
    "\n",
    "def summarize_with_deepseek(text, api_key=OPENROUTER_API_KEY):\n",
    "    url = \"https://openrouter.ai/api/v1/chat/completions\"\n",
    "    headers = {\n",
    "        \"Authorization\": f\"Bearer {api_key}\",\n",
    "        \"Content-Type\": \"application/json\"\n",
    "    }\n",
    "    \n",
    "    prompt = f\"Summarize this text into a short, clear, concise answer suitable for a 1-minute video narration:\\n\\n{text}\"\n",
    "\n",
    "    data = {\n",
    "        \"model\": \"tngtech/deepseek-r1t-chimera:free\",  # Updated model ID\n",
    "        \"messages\": [{\"role\": \"user\", \"content\": prompt}],\n",
    "        \"temperature\": 0.5\n",
    "    }\n",
    "\n",
    "    response = requests.post(url, headers=headers, json=data)\n",
    "\n",
    "    # Check if there is an error in the response\n",
    "    if response.status_code != 200:\n",
    "        print(f\"❌ ERROR: {response.status_code} - {response.text}\")\n",
    "        return \"[SUMMARY FAILED]\"\n",
    "\n",
    "    response_data = response.json()\n",
    "\n",
    "    if 'choices' not in response_data:\n",
    "        print(f\"❌ ERROR: {response_data}\")\n",
    "        return \"[SUMMARY FAILED]\"\n",
    "\n",
    "    summary = response_data['choices'][0]['message']['content']\n",
    "    return summary\n"
   ]
  },
  {
   "cell_type": "code",
   "execution_count": 6,
   "id": "b742ba72",
   "metadata": {},
   "outputs": [],
   "source": [
    "def text_to_speech(text, output_audio_path=\"output/answer_audio.mp3\"):\n",
    "    tts = gTTS(text=text, lang='en')\n",
    "    tts.save(output_audio_path)\n",
    "    return output_audio_path\n"
   ]
  },
  {
   "cell_type": "code",
   "execution_count": 7,
   "id": "245ef211",
   "metadata": {},
   "outputs": [],
   "source": [
    "def create_video(text, audio_path, output_video_path=\"output/answer_video.mp4\"):\n",
    "    # Buat TextClip dengan parameter yang benar\n",
    "    text_clip = TextClip(\n",
    "        text, \n",
    "        fontsize=70,\n",
    "        color='white',\n",
    "        size=(1280, 720),\n",
    "        bg_color='black',\n",
    "        font=\"Arial-Bold\",\n",
    "        method='label'\n",
    "    )\n",
    "    \n",
    "    # Set durasi sesuai audio\n",
    "    audio_clip = AudioFileClip(audio_path)\n",
    "    text_clip = text_clip.set_duration(audio_clip.duration)\n",
    "    text_clip = text_clip.set_audio(audio_clip)\n",
    "    \n",
    "    # Tulis video\n",
    "    final_video = CompositeVideoClip([text_clip])\n",
    "    final_video.write_videofile(\n",
    "        output_video_path, \n",
    "        fps=24,\n",
    "        codec='libx264',\n",
    "        audio_codec='aac'\n",
    "    )\n",
    "    \n",
    "    return output_video_path"
   ]
  },
  {
   "cell_type": "code",
   "execution_count": 8,
   "id": "d62197f9",
   "metadata": {},
   "outputs": [
    {
     "name": "stdout",
     "output_type": "stream",
     "text": [
      "📖 Source: الأربعون الشبابية - Chunk 1\n",
      "📝 Original Answer: Cover forty youth Book: Forty youth, author: Muhammad Khair Ramadan Yusuf, unknown, forty youth, Muhammad Khair Ramadan Muharram 1438 AH. Source: The Golden Comprehensive is anonymous in the name of God, the Most Gracious, the Most Merciful. And educate them to strengthen, and direct them to advocacy and jihad, such as Ali, Musab, Moaz, Ibn Masoud, Ibn Omar, and others, may God be pleased with them all. And their news is many in the Sunnah and the generous prophetic biography, and if the word (youth) and (the boys) did not mention and what they behave from them, they were the audience of the new religion and its fuel, and the movement of society and its activity and vitality, and the Messenger of God, peace and blessings of God be upon him, assigned them to great deeds, to feel the responsibility of the religion About him with senior leaders. I loved the collection of a group of hadiths in which the young and young people are mentioned, whose ages are limited between adulthood and the age of forty, and I did not focus on a specific side of the topics, and it is not limited to the youth affairs, but I wanted to diversify with the benefit, and I was limited to the correct and good, with the explanation of the stranger. God is the guardian of success. Muhammad Khair Yusuf 12/18/1436 AH is an unknown (1) a wonderful land of Abyssinia on the authority of Jaber, who said: When the immigrants of Abyssinia came to the Messenger of God, may God’s prayers and peace be upon him, he said: “Do you not talk to me with the loudspeakers of what you have seen on the land of Abyssinia?” A young man said: O Messenger of God, while we are sitting, an old man of their old people passed a few water on her head, so she passed away from them, so he made one of his hands between her shoulders, then he paid her on her knees, and she said that she said, so when she got up, then she said: The treacherous if God put the chair, gather the first and the others, and the hands and wages spoke with what they were to confirm, so you will teach my command and your command tomorrow. Then the Messenger of God, may God’s prayers and peace be upon him, said: “I believed, then I believed, how do God sanctify people who are not taken to their weak from their severe?” Sunan Ibn Majah (4010) and his improvement to him in Sahih Sunan, Sahih Ibn Hibban (5058), and Sheikh Shuaib corrected his chain of transmission on the condition of a Muslim. The oligarch: a vessel of a pottery. Anonymous (2) The fencing on the authority of Ali said: He advanced - I mean the threshold of Bin Rabia - and his son and brother followed him, so he called: Who is prominent? So the youth of the supporters were delegated to him, and he said: Who are you? So they told him, and he said: There is no need for us in you, but we wanted our cousins, and the Messenger of God, may God’s prayers and peace be upon him, said: “Arise, Hamza, rise, O Ali, O Ubaidah bin Al -Harith.” Hamza came to a threshold, and I came to Shaybah, and he disagreed between Ubaidah and Al -Walid two strikes, so each one of them thickened its owner, then we tired of the newborn and killed him, and we endured Ubaidah. Sunan Abi Dawood (2665), and was corrected in Sahih Sunna, Musnad Ahmad (948), and Sheikh Shuaib corrected his chain of transmission. And the pronunciation of the first. This was the day of Badr. And their saying: We wanted our cousins, they mean from our sufficiency from the Quraysh. And there is a statement of the virtue of the Companions who promised them. Anonymous (3) a boy from Islam on the authority of Anas bin Malik, that a boy of Islam said: O Messenger of God, I want the invasion and I do not have what I am preparing. He said: \"So and so, he was ready and ill.\" So he came to him, and he said: The Messenger of God, may God’s prayers and peace be upon him, reads peace and says: Give me the one you prepared. He said: O so -and -so, give it to you, which I was preparing, and do not hold anything about it, for God do not hold anything from it, and you are blessed with you in it. Sahih Muslim (1894),\n",
      "📝 Summarized Answer: **Video Narration Script (1-minute):**  \n",
      "\"The book *Forty Youth* by Muhammad Khair Ramadan Yusuf highlights the pivotal role of young companions in early Islam. It showcases how the Prophet Muhammad (PBUH) entrusted youth with major responsibilities, from advocacy to jihad, citing figures like Ali, Musab, and others. Through curated hadiths—such as the story of Abyssinian migrants or the bravery of youths at the Battle of Badr—the author emphasizes their faith, vitality, and impact on spreading Islam. The collection diversely explores their contributions without limiting topics, focusing on authentic narrations. A tribute to the dynamism of young Muslims in shaping history.\"  \n",
      "\n",
      "*(Word count: ~100 | Time: ~60 seconds)*\n"
     ]
    }
   ],
   "source": [
    "# Pertanyaan user\n",
    "question = \"What does Islam say about the importance of youth?\"\n",
    "\n",
    "# Step 1: Cari Chunk\n",
    "results = search_best_chunk(question, top_k=1)\n",
    "source, answer = results[0]\n",
    "\n",
    "print(f\"📖 Source: {source}\")\n",
    "print(f\"📝 Original Answer: {answer}\")\n",
    "\n",
    "# Step 2: Summarize dengan DeepSeek\n",
    "summarized_answer = summarize_with_deepseek(answer)\n",
    "print(f\"📝 Summarized Answer: {summarized_answer}\")\n",
    "\n",
    "# Step 3: Buat Audio\n",
    "audio_path = text_to_speech(summarized_answer)\n",
    "\n"
   ]
  },
  {
   "cell_type": "code",
   "execution_count": null,
   "id": "53893691",
   "metadata": {},
   "outputs": [],
   "source": []
  }
 ],
 "metadata": {
  "kernelspec": {
   "display_name": "Python 3",
   "language": "python",
   "name": "python3"
  },
  "language_info": {
   "codemirror_mode": {
    "name": "ipython",
    "version": 3
   },
   "file_extension": ".py",
   "mimetype": "text/x-python",
   "name": "python",
   "nbconvert_exporter": "python",
   "pygments_lexer": "ipython3",
   "version": "3.11.2"
  }
 },
 "nbformat": 4,
 "nbformat_minor": 5
}
