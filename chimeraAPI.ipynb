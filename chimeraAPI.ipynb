{
 "cells": [
  {
   "cell_type": "markdown",
   "id": "c5937d7a",
   "metadata": {},
   "source": [
    "# API KEY"
   ]
  },
  {
   "cell_type": "code",
   "execution_count": null,
   "id": "ab418b8a",
   "metadata": {},
   "outputs": [],
   "source": [
    "# API Key Deepseek Chimera\n",
    "# --> https://openrouter.ai/settings/keys\n",
    "OPENROUTER_API_KEY = \"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\"  # <--  API KEY"
   ]
  },
  {
   "cell_type": "code",
   "execution_count": 36,
   "id": "f357bec0",
   "metadata": {},
   "outputs": [],
   "source": [
    "PEXELS_API_KEY = \"mAeOeBxoIDpJba5LKFHLBNfp4ektHkYJYLAQhemwTJEBX9rmjTsTJmo8\""
   ]
  },
  {
   "cell_type": "markdown",
   "id": "cb02d551",
   "metadata": {},
   "source": [
    "# Library"
   ]
  },
  {
   "cell_type": "code",
   "execution_count": 18,
   "id": "aba88f2c",
   "metadata": {},
   "outputs": [],
   "source": [
    "import json\n",
    "import os\n",
    "import faiss\n",
    "import numpy as np\n",
    "import requests\n",
    "from sentence_transformers import SentenceTransformer\n",
    "from gtts import gTTS"
   ]
  },
  {
   "cell_type": "code",
   "execution_count": 19,
   "id": "3fe4dad2",
   "metadata": {},
   "outputs": [],
   "source": [
    "# Load FAISS Index\n",
    "index = faiss.read_index(\"output/faiss_index.bin\")\n",
    "\n",
    "# Load Mapping sumber chunk\n",
    "with open(\"output/chunk_mapping.json\", \"r\", encoding=\"utf-8\") as f:\n",
    "    chunk_sources = json.load(f)\n",
    "\n",
    "# Load ulang semua chunk text\n",
    "with open(\"output/cleaned_text/epub_chunks_translated.json\", \"r\", encoding=\"utf-8\") as f:\n",
    "    data = json.load(f)\n",
    "\n",
    "# Gabungkan semua chunk\n",
    "all_chunks = []\n",
    "for book_title, chunks in data.items():\n",
    "    for chunk in chunks:\n",
    "        if chunk.strip():\n",
    "            all_chunks.append(chunk)\n",
    "\n",
    "# Load model embedding\n",
    "model = SentenceTransformer('sentence-transformers/all-MiniLM-L6-v2')\n"
   ]
  },
  {
   "cell_type": "code",
   "execution_count": 20,
   "id": "1e099196",
   "metadata": {},
   "outputs": [],
   "source": [
    "def search_best_chunk(question, top_k=1):\n",
    "    \"\"\"Cari chunk paling relevan untuk pertanyaan.\"\"\"\n",
    "    question_embedding = model.encode([question]).astype('float32')\n",
    "    D, I = index.search(question_embedding, top_k)\n",
    "\n",
    "    results = []\n",
    "    for idx in I[0]:\n",
    "        if idx < len(all_chunks):\n",
    "            results.append((chunk_sources[idx], all_chunks[idx]))\n",
    "    return results\n"
   ]
  },
  {
   "cell_type": "code",
   "execution_count": 21,
   "id": "9d1107e1",
   "metadata": {},
   "outputs": [],
   "source": [
    "import requests\n",
    "\n",
    "def summarize_with_deepseek(text, api_key=OPENROUTER_API_KEY):\n",
    "    url = \"https://openrouter.ai/api/v1/chat/completions\"\n",
    "    headers = {\n",
    "        \"Authorization\": f\"Bearer {api_key}\",\n",
    "        \"Content-Type\": \"application/json\"\n",
    "    }\n",
    "    \n",
    "    prompt = (\n",
    "    \"Summarize the following text into a compelling, clear, and natural narration \"\n",
    "    \"that sounds like it's spoken in a 1-minute educational YouTube short. \"\n",
    "    \"Use warm and engaging tone. Avoid robotic or overly formal phrasing. \"\n",
    "    \"Write as if you're explaining to a general audience with no prior knowledge.\\n\\n\"\n",
    "    f\"{text}\"\n",
    "    )\n",
    "\n",
    "    data = {\n",
    "        \"model\": \"tngtech/deepseek-r1t-chimera:free\",  # Updated model ID\n",
    "        \"messages\": [{\"role\": \"user\", \"content\": prompt}],\n",
    "        \"temperature\": 0.5\n",
    "    }\n",
    "\n",
    "    response = requests.post(url, headers=headers, json=data)\n",
    "\n",
    "    # Check if there is an error in the response\n",
    "    if response.status_code != 200:\n",
    "        print(f\"❌ ERROR: {response.status_code} - {response.text}\")\n",
    "        return \"[SUMMARY FAILED]\"\n",
    "\n",
    "    response_data = response.json()\n",
    "\n",
    "    if 'choices' not in response_data:\n",
    "        print(f\"❌ ERROR: {response_data}\")\n",
    "        return \"[SUMMARY FAILED]\"\n",
    "\n",
    "    summary = response_data['choices'][0]['message']['content']\n",
    "    return summary\n"
   ]
  },
  {
   "cell_type": "code",
   "execution_count": 22,
   "id": "b742ba72",
   "metadata": {},
   "outputs": [],
   "source": [
    "def text_to_speech(text, output_audio_path=\"output/answer_audio.mp3\"):\n",
    "    tts = gTTS(text=text, lang='en')\n",
    "    tts.save(output_audio_path)\n",
    "    return output_audio_path\n"
   ]
  },
  {
   "cell_type": "code",
   "execution_count": 44,
   "id": "d62197f9",
   "metadata": {},
   "outputs": [
    {
     "name": "stdout",
     "output_type": "stream",
     "text": [
      "📖 Source: الأربعون الشبابية - Chunk 1\n",
      "📝 Original Answer: Cover forty youth Book: Forty youth, author: Muhammad Khair Ramadan Yusuf, unknown, forty youth, Muhammad Khair Ramadan Muharram 1438 AH. Source: The Golden Comprehensive is anonymous in the name of God, the Most Gracious, the Most Merciful. And educate them to strengthen, and direct them to advocacy and jihad, such as Ali, Musab, Moaz, Ibn Masoud, Ibn Omar, and others, may God be pleased with them all. And their news is many in the Sunnah and the generous prophetic biography, and if the word (youth) and (the boys) did not mention and what they behave from them, they were the audience of the new religion and its fuel, and the movement of society and its activity and vitality, and the Messenger of God, peace and blessings of God be upon him, assigned them to great deeds, to feel the responsibility of the religion About him with senior leaders. I loved the collection of a group of hadiths in which the young and young people are mentioned, whose ages are limited between adulthood and the age of forty, and I did not focus on a specific side of the topics, and it is not limited to the youth affairs, but I wanted to diversify with the benefit, and I was limited to the correct and good, with the explanation of the stranger. God is the guardian of success. Muhammad Khair Yusuf 12/18/1436 AH is an unknown (1) a wonderful land of Abyssinia on the authority of Jaber, who said: When the immigrants of Abyssinia came to the Messenger of God, may God’s prayers and peace be upon him, he said: “Do you not talk to me with the loudspeakers of what you have seen on the land of Abyssinia?” A young man said: O Messenger of God, while we are sitting, an old man of their old people passed a few water on her head, so she passed away from them, so he made one of his hands between her shoulders, then he paid her on her knees, and she said that she said, so when she got up, then she said: The treacherous if God put the chair, gather the first and the others, and the hands and wages spoke with what they were to confirm, so you will teach my command and your command tomorrow. Then the Messenger of God, may God’s prayers and peace be upon him, said: “I believed, then I believed, how do God sanctify people who are not taken to their weak from their severe?” Sunan Ibn Majah (4010) and his improvement to him in Sahih Sunan, Sahih Ibn Hibban (5058), and Sheikh Shuaib corrected his chain of transmission on the condition of a Muslim. The oligarch: a vessel of a pottery. Anonymous (2) The fencing on the authority of Ali said: He advanced - I mean the threshold of Bin Rabia - and his son and brother followed him, so he called: Who is prominent? So the youth of the supporters were delegated to him, and he said: Who are you? So they told him, and he said: There is no need for us in you, but we wanted our cousins, and the Messenger of God, may God’s prayers and peace be upon him, said: “Arise, Hamza, rise, O Ali, O Ubaidah bin Al -Harith.” Hamza came to a threshold, and I came to Shaybah, and he disagreed between Ubaidah and Al -Walid two strikes, so each one of them thickened its owner, then we tired of the newborn and killed him, and we endured Ubaidah. Sunan Abi Dawood (2665), and was corrected in Sahih Sunna, Musnad Ahmad (948), and Sheikh Shuaib corrected his chain of transmission. And the pronunciation of the first. This was the day of Badr. And their saying: We wanted our cousins, they mean from our sufficiency from the Quraysh. And there is a statement of the virtue of the Companions who promised them. Anonymous (3) a boy from Islam on the authority of Anas bin Malik, that a boy of Islam said: O Messenger of God, I want the invasion and I do not have what I am preparing. He said: \"So and so, he was ready and ill.\" So he came to him, and he said: The Messenger of God, may God’s prayers and peace be upon him, reads peace and says: Give me the one you prepared. He said: O so -and -so, give it to you, which I was preparing, and do not hold anything about it, for God do not hold anything from it, and you are blessed with you in it. Sahih Muslim (1894),\n",
      "📝 Summarized Answer: **Title: The Power of Youth in Early Islam 🌟**  \n",
      "\n",
      "Did you know some of Islam’s most inspiring heroes were *young people*? The book *Forty Youth* by Muhammad Khair Ramadan Yusuf shines a light on the incredible stories of teens and young adults who shaped Islam’s early days—like Ali, Musab, and others—who embraced faith, courage, and responsibility.  \n",
      "\n",
      "Take this moment: A young man from Abyssinia once stood before the Prophet Muhammad (PBUH) and shared a powerful story of faith he witnessed there, leaving the Prophet in awe. Or Ali (RA), who fought bravely alongside other young companions at the Battle of Badr, defending Islam with unwavering strength. And then there’s the boy who longed to join an expedition but had no supplies—until a generous companion stepped in, saying, *“Take what I have—may Allah bless it for you.”*  \n",
      "\n",
      "These weren’t just random acts; they were proof of how youth fueled Islam’s growth—its energy, its hope, its future. The Prophet (PBUH) trusted them with huge roles, showing that age doesn’t limit impact.  \n",
      "\n",
      "So next time you think, *“What can I do?”* remember: faith and action start young. 🌱✨  \n",
      "\n",
      "*(Source: Forty Youth, Muhammad Khair Ramadan Yusuf)*\n"
     ]
    }
   ],
   "source": [
    "# Pertanyaan user\n",
    "question = \"What does Islam say about the importance of youth?\"\n",
    "\n",
    "# Step 1: Cari Chunk\n",
    "results = search_best_chunk(question, top_k=1)\n",
    "source, answer = results[0]\n",
    "\n",
    "print(f\"📖 Source: {source}\")\n",
    "print(f\"📝 Original Answer: {answer}\")\n",
    "\n",
    "# Step 2: Summarize dengan DeepSeek\n",
    "summarized_answer = summarize_with_deepseek(answer)\n",
    "print(f\"📝 Summarized Answer: {summarized_answer}\")\n",
    "\n",
    "# Step 3: Buat Audio\n",
    "audio_path = text_to_speech(summarized_answer)\n",
    "\n"
   ]
  },
  {
   "cell_type": "code",
   "execution_count": null,
   "id": "31dd1890",
   "metadata": {},
   "outputs": [],
   "source": [
    "# import os\n",
    "# from moviepy.editor import AudioFileClip, TextClip, CompositeVideoClip, ColorClip, concatenate_videoclips\n",
    "# from moviepy.config import change_settings\n",
    "# import textwrap\n",
    "\n",
    "# change_settings({\"IMAGEMAGICK_BINARY\": r\"C:\\Program Files\\ImageMagick-7.1.1-Q16-HDRI\\magick.exe\"})\n",
    "\n",
    "\n",
    "# def split_text_to_chunks(text, max_chars=120):\n",
    "#     \"\"\"\n",
    "#     Memecah teks menjadi potongan-potongan pendek agar cocok untuk satu layar.\n",
    "#     \"\"\"\n",
    "#     return textwrap.wrap(text, width=max_chars)\n",
    "\n",
    "\n",
    "# def create_video_with_audio_and_text(audio_path, text, output_path=\"output/final_video.mp4\"):\n",
    "#     # Load audio\n",
    "#     audio = AudioFileClip(audio_path)\n",
    "#     duration = audio.duration\n",
    "\n",
    "#     # Pecah teks jadi beberapa bagian\n",
    "#     chunks = split_text_to_chunks(text)\n",
    "#     num_chunks = len(chunks)\n",
    "#     chunk_duration = duration / num_chunks  # Durasi tiap segmen\n",
    "\n",
    "#     video_clips = []\n",
    "\n",
    "#     for i, chunk in enumerate(chunks):\n",
    "#         background = ColorClip(size=(1280, 720), color=(0, 0, 0), duration=chunk_duration)\n",
    "\n",
    "#         text_clip = TextClip(\n",
    "#             txt=chunk,\n",
    "#             fontsize=48,\n",
    "#             color='white',\n",
    "#             font='Arial-Bold',\n",
    "#             size=(1100, None),\n",
    "#             method='caption'\n",
    "#         ).set_duration(chunk_duration).set_position((\"center\", \"bottom\"))\n",
    "\n",
    "#         video_clip = CompositeVideoClip([background, text_clip])\n",
    "#         video_clips.append(video_clip)\n",
    "\n",
    "#     # Gabungkan semua klip\n",
    "#     final_video = concatenate_videoclips(video_clips).set_audio(audio)\n",
    "\n",
    "#     os.makedirs(os.path.dirname(output_path), exist_ok=True)\n",
    "#     final_video.write_videofile(output_path, fps=24)\n",
    "\n",
    "# # Contoh pemanggilan (pastikan audio_path dan summarized_answer didefinisikan)\n",
    "# create_video_with_audio_and_text(audio_path, summarized_answer)\n",
    "# print(\"✅ Video berhasil dibuat.\")"
   ]
  },
  {
   "cell_type": "code",
   "execution_count": 42,
   "id": "bce0d8b7",
   "metadata": {},
   "outputs": [
    {
     "name": "stdout",
     "output_type": "stream",
     "text": [
      "Moviepy - Building video output/final_video.mp4.\n",
      "MoviePy - Writing audio in final_videoTEMP_MPY_wvf_snd.mp3\n"
     ]
    },
    {
     "name": "stderr",
     "output_type": "stream",
     "text": [
      "                                                                      \r"
     ]
    },
    {
     "name": "stdout",
     "output_type": "stream",
     "text": [
      "MoviePy - Done.\n",
      "Moviepy - Writing video output/final_video.mp4\n",
      "\n"
     ]
    },
    {
     "name": "stderr",
     "output_type": "stream",
     "text": [
      "                                                                \r"
     ]
    },
    {
     "name": "stdout",
     "output_type": "stream",
     "text": [
      "Moviepy - Done !\n",
      "Moviepy - video ready output/final_video.mp4\n",
      "✅ Video berhasil dibuat & gambar sementara telah dihapus.\n"
     ]
    }
   ],
   "source": [
    "import os\n",
    "import requests\n",
    "from io import BytesIO\n",
    "from PIL import Image\n",
    "from moviepy.editor import AudioFileClip, TextClip, CompositeVideoClip, ImageClip, concatenate_videoclips\n",
    "from moviepy.config import change_settings\n",
    "import textwrap\n",
    "import hashlib\n",
    "\n",
    "change_settings({\"IMAGEMAGICK_BINARY\": r\"C:\\\\Program Files\\\\ImageMagick-7.1.1-Q16-HDRI\\\\magick.exe\"})\n",
    "\n",
    "PEXELS_API_KEY = \"mAeOeBxoIDpJba5LKFHLBNfp4ektHkYJYLAQhemwTJEBX9rmjTsTJmo8\"\n",
    "\n",
    "def split_text_to_chunks(text, max_chars=120):\n",
    "    return textwrap.wrap(text, width=max_chars)\n",
    "\n",
    "def sanitize_filename(text):\n",
    "    return hashlib.md5(text.encode('utf-8')).hexdigest()\n",
    "\n",
    "def download_single_image_from_pexels(query, index=0):\n",
    "    headers = {\n",
    "        \"Authorization\": PEXELS_API_KEY\n",
    "    }\n",
    "    response = requests.get(f\"https://api.pexels.com/v1/search?query={query}&per_page=1\", headers=headers)\n",
    "    data = response.json()\n",
    "    \n",
    "    if \"photos\" in data and data[\"photos\"]:\n",
    "        image_url = data[\"photos\"][0][\"src\"][\"landscape\"]\n",
    "        img_data = requests.get(image_url).content\n",
    "        image = Image.open(BytesIO(img_data)).resize((1280, 720))\n",
    "        image_path = f\"temp_bg_{sanitize_filename(query)}_{index}.jpg\"\n",
    "        image.save(image_path)\n",
    "        return image_path\n",
    "    else:\n",
    "        # fallback background\n",
    "        black_img_path = f\"temp_bg_black_{index}.jpg\"\n",
    "        Image.new(\"RGB\", (1280, 720), (0, 0, 0)).save(black_img_path)\n",
    "        return black_img_path\n",
    "\n",
    "def create_video_with_audio_and_text(audio_path, text, output_path=\"output/final_video.mp4\"):\n",
    "    audio = AudioFileClip(audio_path)\n",
    "    duration = audio.duration\n",
    "\n",
    "    chunks = split_text_to_chunks(text)\n",
    "    num_chunks = len(chunks)\n",
    "    chunk_duration = duration / num_chunks\n",
    "\n",
    "    video_clips = []\n",
    "    temp_image_paths = []\n",
    "\n",
    "    for i, chunk in enumerate(chunks):\n",
    "        query = chunk.split(\".\")[0]\n",
    "        bg_path = download_single_image_from_pexels(query, index=i)\n",
    "        temp_image_paths.append(bg_path)  # simpan path untuk dihapus nanti\n",
    "\n",
    "        background = ImageClip(bg_path).set_duration(chunk_duration)\n",
    "\n",
    "        text_clip = TextClip(\n",
    "            txt=chunk,\n",
    "            fontsize=48,\n",
    "            color='white',\n",
    "            font='Arial-Bold',\n",
    "            size=(1100, None),\n",
    "            method='caption'\n",
    "        ).set_duration(chunk_duration).set_position((\"center\", \"bottom\"))\n",
    "\n",
    "        video_clip = CompositeVideoClip([background, text_clip])\n",
    "        video_clips.append(video_clip)\n",
    "\n",
    "    final_video = concatenate_videoclips(video_clips).set_audio(audio)\n",
    "    os.makedirs(os.path.dirname(output_path), exist_ok=True)\n",
    "    final_video.write_videofile(output_path, fps=24)\n",
    "\n",
    "    # Hapus semua gambar setelah selesai\n",
    "    for path in temp_image_paths:\n",
    "        if os.path.exists(path):\n",
    "            os.remove(path)\n",
    "\n",
    "# Contoh pemanggilan\n",
    "create_video_with_audio_and_text(audio_path, summarized_answer)\n",
    "print(\"✅ Video berhasil dibuat & gambar sementara telah dihapus.\")\n"
   ]
  }
 ],
 "metadata": {
  "kernelspec": {
   "display_name": "Python 3",
   "language": "python",
   "name": "python3"
  },
  "language_info": {
   "codemirror_mode": {
    "name": "ipython",
    "version": 3
   },
   "file_extension": ".py",
   "mimetype": "text/x-python",
   "name": "python",
   "nbconvert_exporter": "python",
   "pygments_lexer": "ipython3",
   "version": "3.11.2"
  }
 },
 "nbformat": 4,
 "nbformat_minor": 5
}
