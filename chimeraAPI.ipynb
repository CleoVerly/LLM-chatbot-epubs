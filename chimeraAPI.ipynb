{
 "cells": [
  {
   "cell_type": "markdown",
   "id": "c5937d7a",
   "metadata": {},
   "source": [
    "# API KEY"
   ]
  },
  {
   "cell_type": "code",
   "execution_count": 11,
   "id": "ab418b8a",
   "metadata": {},
   "outputs": [],
   "source": [
    "# API Key Deepseek Chimera\n",
    "# --> https://openrouter.ai/settings/keys\n",
    "OPENROUTER_API_KEY = \"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\"  # <--  API KEY"
   ]
  },
  {
   "cell_type": "code",
   "execution_count": 12,
   "id": "f357bec0",
   "metadata": {},
   "outputs": [],
   "source": [
    "PEXELS_API_KEY = \"mAeOeBxoIDpJba5LKFHLBNfp4ektHkYJYLAQhemwTJEBX9rmjTsTJmo8\""
   ]
  },
  {
   "cell_type": "markdown",
   "id": "cb02d551",
   "metadata": {},
   "source": [
    "# Library"
   ]
  },
  {
   "cell_type": "code",
   "execution_count": 13,
   "id": "aba88f2c",
   "metadata": {},
   "outputs": [],
   "source": [
    "import json\n",
    "import os\n",
    "import faiss\n",
    "import numpy as np\n",
    "import requests\n",
    "from sentence_transformers import SentenceTransformer\n",
    "from gtts import gTTS"
   ]
  },
  {
   "cell_type": "code",
   "execution_count": 14,
   "id": "3fe4dad2",
   "metadata": {},
   "outputs": [],
   "source": [
    "# Load FAISS Index\n",
    "index = faiss.read_index(\"output/faiss_index.bin\")\n",
    "\n",
    "# Load Mapping sumber chunk\n",
    "with open(\"output/chunk_mapping.json\", \"r\", encoding=\"utf-8\") as f:\n",
    "    chunk_sources = json.load(f)\n",
    "\n",
    "# Load ulang semua chunk text\n",
    "with open(\"output/cleaned_text/epub_chunks_translated.json\", \"r\", encoding=\"utf-8\") as f:\n",
    "    data = json.load(f)\n",
    "\n",
    "# Gabungkan semua chunk\n",
    "all_chunks = []\n",
    "for book_title, chunks in data.items():\n",
    "    for chunk in chunks:\n",
    "        if chunk.strip():\n",
    "            all_chunks.append(chunk)\n",
    "\n",
    "# Load model embedding\n",
    "model = SentenceTransformer('sentence-transformers/all-MiniLM-L6-v2')\n"
   ]
  },
  {
   "cell_type": "code",
   "execution_count": 15,
   "id": "1e099196",
   "metadata": {},
   "outputs": [],
   "source": [
    "def search_best_chunk(question, top_k=1):\n",
    "    \"\"\"Cari chunk paling relevan untuk pertanyaan.\"\"\"\n",
    "    question_embedding = model.encode([question]).astype('float32')\n",
    "    D, I = index.search(question_embedding, top_k)\n",
    "\n",
    "    results = []\n",
    "    for idx in I[0]:\n",
    "        if idx < len(all_chunks):\n",
    "            results.append((chunk_sources[idx], all_chunks[idx]))\n",
    "    return results\n"
   ]
  },
  {
   "cell_type": "code",
   "execution_count": 39,
   "id": "9d1107e1",
   "metadata": {},
   "outputs": [],
   "source": [
    "import requests\n",
    "import re\n",
    "\n",
    "def summarize_with_deepseek(text, api_key=OPENROUTER_API_KEY, output_language=\"English\"):\n",
    "    url = \"https://openrouter.ai/api/v1/chat/completions\"\n",
    "    headers = {\n",
    "        \"Authorization\": f\"Bearer {api_key}\",\n",
    "        \"Content-Type\": \"application/json\"\n",
    "    }\n",
    "\n",
    "    prompt = (\n",
    "        f\"Write a compelling final narration in {output_language} for a 1-minute YouTube video, \"\n",
    "        f\"based on the following text. Use warm, natural, inspiring language. \"\n",
    "        f\"Do NOT include your internal thoughts or step-by-step process. Just give the final script:\\n\\n{text}\"\n",
    "    )\n",
    "\n",
    "    data = {\n",
    "        \"model\": \"tngtech/deepseek-r1t-chimera:free\",\n",
    "        \"messages\": [{\"role\": \"user\", \"content\": prompt}],\n",
    "        \"temperature\": 0.5\n",
    "    }\n",
    "\n",
    "    try:\n",
    "        response = requests.post(url, headers=headers, json=data)\n",
    "        if response.status_code != 200:\n",
    "            print(f\"❌ ERROR: {response.status_code} - {response.text}\")\n",
    "            return \"[SUMMARY FAILED]\"\n",
    "\n",
    "        content = response.json()['choices'][0]['message']['content']\n",
    "\n",
    "        # error catch\n",
    "        if \"Narration:\" in content:\n",
    "            content = content.split(\"Narration:\")[-1].strip()\n",
    "        else:\n",
    "            match = re.search(r\"\\*\\*(.*?)\\*\\*\", content, re.DOTALL)\n",
    "            if match:\n",
    "                content = match.group(1).strip()\n",
    "\n",
    "        # Bersihkan\n",
    "        if \"Let me\" in content or \"First,\" in content[:80]:\n",
    "            # Potong kalimat pertama yang berisi kutipan atau awalan puitis\n",
    "            sentences = content.split('\\n')\n",
    "            for i, line in enumerate(sentences):\n",
    "                if line.strip().startswith(\"\\\"\") or line.strip().startswith(\"In the\"):\n",
    "                    content = \"\\n\".join(sentences[i:])\n",
    "                    break\n",
    "\n",
    "        return content.strip()\n",
    "\n",
    "    except Exception as e:\n",
    "        print(f\"❌ ERROR: {e}\")\n",
    "        return \"[SUMMARY FAILED]\"\n"
   ]
  },
  {
   "cell_type": "code",
   "execution_count": 40,
   "id": "b742ba72",
   "metadata": {},
   "outputs": [],
   "source": [
    "def text_to_speech(text, output_audio_path=\"output/answer_audio.mp3\"):\n",
    "    tts = gTTS(text=text, lang='en')\n",
    "    tts.save(output_audio_path)\n",
    "    return output_audio_path\n"
   ]
  },
  {
   "cell_type": "code",
   "execution_count": 42,
   "id": "db469d5d",
   "metadata": {},
   "outputs": [
    {
     "name": "stdout",
     "output_type": "stream",
     "text": [
      "📖 Source: تيسير اللطيف المنان في خلاصة تفسير القرآن - ط الأوقاف السعودية - Chunk 34\n",
      "📝 Original Answer: And do not complete the wet from it, you will spend, and you will take it, except that you will be overwhelmed by it and know that God is the rich of Hamid: [267] His harvest [Al -Anam: 141] God has gathered in his book in many verses between the matter to establish prayer and pay zakat; Because they are two common that they are one of the most important assumptions of religion, and the great buildings of Islam, and faith is only done with them, and whoever prayed and zakat was a residing in his religion, and whoever lost them was because of the other of his religion was lost, so the prayer in it is complete devotion to the idol, which is the balance of faith, and zakat in it is charity to the creatures, which is page: 75 unknown to the proof of faith Zakat, and Abu Bakr, may God be pleased with him, said: “For a difference between a difference between prayer and zakat.” The other verse:﴿ From the goodness of what you have earned ﴾[Al -Baqarah: 267] of the money, the performances and the smoothness of the continuous, and what we have brought out to you from the land ﴾[Al -Baqarah: 267] from the grains and the fruits. He watered without supplies, and half of it is watered by the water, and a quarter of the ten money, and that is if the year in the trade funds is in the money, and the harvest and the vitils occur at the time of the fruits, as is the explicit of the mentioned verse. I was obligated if it is an obligation, and it is not rewarded and rewarded if it is a precursor; And the Almighty indicated the wisdom in that, and it is a reasonable wisdom: Just as you do not satisfy those who have the right to give you the bad from his money, which is without your right except to accept it in the face of hatred and hatred, so how do you accept your Lord and your brothers what you do not satisfy for yourselves? This is not fair and fair. And among the Almighty is the wisdom of zakat and the statement of its great interests, so he said:﴿ Purify them and their zakat with it ﴾[At -Tawbah: 103] This is a comprehensive word, in which the benefits are entered into the giving and the one who is given: 76, and the public and the public: ﴿ Purifying them [Repentance: 103], meaning: from sins and from vice morals, one of the greatest and greatest sins is the prohibition of zakat, and also giving them a reason for the remission of other sins, it is one of the greatest good deeds, and good deeds go bad. Charity, compassion for creation, and purifying money from dirt and pests, for money has pests such as pests, and the greatest pests are to mix with the forbidden money; It is for funds like scabies that rested it, and the disturbing calamities and voices are resolved by it. He develops his morals, blesses the blessing in his works, and increases zakat in the manner of morals and the merits of Al -Shaim; And you develop the money with the disappearance of what has its harm and the occurrence of what is good in it, and the blessing in it from God.\n",
      "📝 Summarized Answer: **  \n",
      "\n",
      "\"In the heart of Islam, prayer and zakat stand together—twin pillars of faith, devotion, and compassion. Prayer connects us to the Divine, a sacred act of humility and love. Zakat extends that love outward, purifying our wealth and souls, reminding us that every blessing we hold is a trust from God.  \n",
      "\n",
      "‘From the goodness of what you earn, give,’ the Quran teaches. For in sharing, we cleanse our hearts of greed, nurture generosity, and heal the fractures of this world. Zakat is more than charity—it is justice, a bond between believer and Creator, between neighbor and stranger.  \n",
      "\n",
      "As rain revives the earth, giving revives the spirit. It plants seeds of mercy, grows communities of care, and multiplies blessings in ways unseen. Let your prayers rise, and let your hands open wide. For in giving, we are purified. In faith, we are made whole.  \n",
      "\n",
      "This is the path—walk it with courage, walk it with grace, and witness how God transforms the little we offer into abundance for all.\"  \n",
      "\n",
      "---  \n",
      "*(Note: Adjust pacing to fit a 1-minute timeframe.)*\n"
     ]
    }
   ],
   "source": [
    "# Pertanyaan user\n",
    "# question = \"What does Islam say about the importance of youth?\"\n",
    "question = \"What does Islam say importan pray?\"\n",
    "\n",
    "# Step 1: Cari Chunk\n",
    "results = search_best_chunk(question, top_k=1)\n",
    "source, answer = results[0]\n",
    "\n",
    "print(f\"📖 Source: {source}\")\n",
    "print(f\"📝 Original Answer: {answer}\")\n",
    "\n",
    "# Step 2: Summarize dengan DeepSeek\n",
    "summarized_answer = summarize_with_deepseek(answer)\n",
    "print(f\"📝 Summarized Answer: {summarized_answer}\")\n",
    "\n",
    "# Step 3: Buat Audio\n",
    "audio_path = text_to_speech(summarized_answer)\n"
   ]
  },
  {
   "cell_type": "code",
   "execution_count": 19,
   "id": "31dd1890",
   "metadata": {},
   "outputs": [],
   "source": [
    "# import os\n",
    "# from moviepy.editor import AudioFileClip, TextClip, CompositeVideoClip, ColorClip, concatenate_videoclips\n",
    "# from moviepy.config import change_settings\n",
    "# import textwrap\n",
    "\n",
    "# change_settings({\"IMAGEMAGICK_BINARY\": r\"C:\\Program Files\\ImageMagick-7.1.1-Q16-HDRI\\magick.exe\"})\n",
    "\n",
    "\n",
    "# def split_text_to_chunks(text, max_chars=120):\n",
    "#     \"\"\"\n",
    "#     Memecah teks menjadi potongan-potongan pendek agar cocok untuk satu layar.\n",
    "#     \"\"\"\n",
    "#     return textwrap.wrap(text, width=max_chars)\n",
    "\n",
    "\n",
    "# def create_video_with_audio_and_text(audio_path, text, output_path=\"output/final_video.mp4\"):\n",
    "#     # Load audio\n",
    "#     audio = AudioFileClip(audio_path)\n",
    "#     duration = audio.duration\n",
    "\n",
    "#     # Pecah teks jadi beberapa bagian\n",
    "#     chunks = split_text_to_chunks(text)\n",
    "#     num_chunks = len(chunks)\n",
    "#     chunk_duration = duration / num_chunks  # Durasi tiap segmen\n",
    "\n",
    "#     video_clips = []\n",
    "\n",
    "#     for i, chunk in enumerate(chunks):\n",
    "#         background = ColorClip(size=(1280, 720), color=(0, 0, 0), duration=chunk_duration)\n",
    "\n",
    "#         text_clip = TextClip(\n",
    "#             txt=chunk,\n",
    "#             fontsize=48,\n",
    "#             color='white',\n",
    "#             font='Arial-Bold',\n",
    "#             size=(1100, None),\n",
    "#             method='caption'\n",
    "#         ).set_duration(chunk_duration).set_position((\"center\", \"bottom\"))\n",
    "\n",
    "#         video_clip = CompositeVideoClip([background, text_clip])\n",
    "#         video_clips.append(video_clip)\n",
    "\n",
    "#     # Gabungkan semua klip\n",
    "#     final_video = concatenate_videoclips(video_clips).set_audio(audio)\n",
    "\n",
    "#     os.makedirs(os.path.dirname(output_path), exist_ok=True)\n",
    "#     final_video.write_videofile(output_path, fps=24)\n",
    "\n",
    "# # Contoh pemanggilan (pastikan audio_path dan summarized_answer didefinisikan)\n",
    "# create_video_with_audio_and_text(audio_path, summarized_answer)\n",
    "# print(\"✅ Video berhasil dibuat.\")"
   ]
  },
  {
   "cell_type": "code",
   "execution_count": 35,
   "id": "bce0d8b7",
   "metadata": {},
   "outputs": [
    {
     "name": "stdout",
     "output_type": "stream",
     "text": [
      "Moviepy - Building video output/final_video.mp4.\n",
      "MoviePy - Writing audio in final_videoTEMP_MPY_wvf_snd.mp3\n"
     ]
    },
    {
     "name": "stderr",
     "output_type": "stream",
     "text": [
      "                                                                      \r"
     ]
    },
    {
     "name": "stdout",
     "output_type": "stream",
     "text": [
      "MoviePy - Done.\n",
      "Moviepy - Writing video output/final_video.mp4\n",
      "\n"
     ]
    },
    {
     "name": "stderr",
     "output_type": "stream",
     "text": [
      "                                                                \r"
     ]
    },
    {
     "name": "stdout",
     "output_type": "stream",
     "text": [
      "Moviepy - Done !\n",
      "Moviepy - video ready output/final_video.mp4\n",
      "✅ Video berhasil dibuat & gambar sementara telah dihapus.\n"
     ]
    }
   ],
   "source": [
    "import os\n",
    "import requests\n",
    "from io import BytesIO\n",
    "from PIL import Image\n",
    "from moviepy.editor import AudioFileClip, TextClip, CompositeVideoClip, ImageClip, concatenate_videoclips\n",
    "from moviepy.config import change_settings\n",
    "import textwrap\n",
    "import hashlib\n",
    "\n",
    "change_settings({\"IMAGEMAGICK_BINARY\": r\"C:\\\\Program Files\\\\ImageMagick-7.1.1-Q16-HDRI\\\\magick.exe\"})\n",
    "\n",
    "def split_text_to_chunks(text, max_chars=120):\n",
    "    return textwrap.wrap(text, width=max_chars)\n",
    "\n",
    "def sanitize_filename(text):\n",
    "    return hashlib.md5(text.encode('utf-8')).hexdigest()\n",
    "\n",
    "def download_single_image_from_pexels(query, index=0):\n",
    "    headers = {\n",
    "        \"Authorization\": PEXELS_API_KEY\n",
    "    }\n",
    "    response = requests.get(f\"https://api.pexels.com/v1/search?query={query}&per_page=1\", headers=headers)\n",
    "    data = response.json()\n",
    "    \n",
    "    if \"photos\" in data and data[\"photos\"]:\n",
    "        image_url = data[\"photos\"][0][\"src\"][\"landscape\"]\n",
    "        img_data = requests.get(image_url).content\n",
    "        image = Image.open(BytesIO(img_data)).resize((1280, 720))\n",
    "        image_path = f\"temp_bg_{sanitize_filename(query)}_{index}.jpg\"\n",
    "        image.save(image_path)\n",
    "        return image_path\n",
    "    else:\n",
    "        # fallback background\n",
    "        black_img_path = f\"temp_bg_black_{index}.jpg\"\n",
    "        Image.new(\"RGB\", (1280, 720), (0, 0, 0)).save(black_img_path)\n",
    "        return black_img_path\n",
    "\n",
    "def create_video_with_audio_and_text(audio_path, text, output_path=\"output/final_video.mp4\"):\n",
    "    audio = AudioFileClip(audio_path)\n",
    "    duration = audio.duration\n",
    "\n",
    "    chunks = split_text_to_chunks(text)\n",
    "    num_chunks = len(chunks)\n",
    "    chunk_duration = duration / num_chunks\n",
    "\n",
    "    video_clips = []\n",
    "    temp_image_paths = []\n",
    "\n",
    "    for i, chunk in enumerate(chunks):\n",
    "        query = chunk.split(\".\")[0]\n",
    "        bg_path = download_single_image_from_pexels(query, index=i)\n",
    "        temp_image_paths.append(bg_path)  # simpan path untuk dihapus nanti\n",
    "\n",
    "        background = ImageClip(bg_path).set_duration(chunk_duration)\n",
    "\n",
    "        text_clip = TextClip(\n",
    "            txt=chunk,\n",
    "            fontsize=48,\n",
    "            color='white',\n",
    "            font='Arial-Bold',\n",
    "            size=(1100, None),\n",
    "            method='caption'\n",
    "        ).set_duration(chunk_duration).set_position((\"center\", \"bottom\"))\n",
    "\n",
    "        video_clip = CompositeVideoClip([background, text_clip])\n",
    "        video_clips.append(video_clip)\n",
    "\n",
    "    final_video = concatenate_videoclips(video_clips).set_audio(audio)\n",
    "    os.makedirs(os.path.dirname(output_path), exist_ok=True)\n",
    "    final_video.write_videofile(output_path, fps=24)\n",
    "\n",
    "    # Hapus semua gambar setelah selesai\n",
    "    for path in temp_image_paths:\n",
    "        if os.path.exists(path):\n",
    "            os.remove(path)\n",
    "\n",
    "# Contoh pemanggilan\n",
    "create_video_with_audio_and_text(audio_path, summarized_answer)\n",
    "print(\"✅ Video berhasil dibuat & gambar sementara telah dihapus.\")\n"
   ]
  }
 ],
 "metadata": {
  "kernelspec": {
   "display_name": "Python 3",
   "language": "python",
   "name": "python3"
  },
  "language_info": {
   "codemirror_mode": {
    "name": "ipython",
    "version": 3
   },
   "file_extension": ".py",
   "mimetype": "text/x-python",
   "name": "python",
   "nbconvert_exporter": "python",
   "pygments_lexer": "ipython3",
   "version": "3.11.2"
  }
 },
 "nbformat": 4,
 "nbformat_minor": 5
}
