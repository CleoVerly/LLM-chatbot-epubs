{
 "cells": [
  {
   "cell_type": "code",
   "execution_count": 4,
   "id": "dcf685e0",
   "metadata": {},
   "outputs": [
    {
     "name": "stdout",
     "output_type": "stream",
     "text": [
      "Requirement already satisfied: moviepy in c:\\users\\leviathans\\appdata\\local\\programs\\python\\python311\\lib\\site-packages (2.1.2)\n",
      "Requirement already satisfied: decorator<6.0,>=4.0.2 in c:\\users\\leviathans\\appdata\\roaming\\python\\python311\\site-packages (from moviepy) (5.1.1)\n",
      "Requirement already satisfied: imageio<3.0,>=2.5 in c:\\users\\leviathans\\appdata\\local\\programs\\python\\python311\\lib\\site-packages (from moviepy) (2.37.0)\n",
      "Requirement already satisfied: imageio_ffmpeg>=0.2.0 in c:\\users\\leviathans\\appdata\\local\\programs\\python\\python311\\lib\\site-packages (from moviepy) (0.6.0)\n",
      "Requirement already satisfied: numpy>=1.25.0 in c:\\users\\leviathans\\appdata\\local\\programs\\python\\python311\\lib\\site-packages (from moviepy) (1.26.4)\n",
      "Requirement already satisfied: proglog<=1.0.0 in c:\\users\\leviathans\\appdata\\local\\programs\\python\\python311\\lib\\site-packages (from moviepy) (0.1.11)\n",
      "Requirement already satisfied: python-dotenv>=0.10 in c:\\users\\leviathans\\appdata\\local\\programs\\python\\python311\\lib\\site-packages (from moviepy) (1.1.0)\n",
      "Requirement already satisfied: pillow<11.0,>=9.2.0 in c:\\users\\leviathans\\appdata\\local\\programs\\python\\python311\\lib\\site-packages (from moviepy) (9.5.0)\n",
      "Requirement already satisfied: tqdm in c:\\users\\leviathans\\appdata\\local\\programs\\python\\python311\\lib\\site-packages (from proglog<=1.0.0->moviepy) (4.67.1)\n",
      "Requirement already satisfied: colorama in c:\\users\\leviathans\\appdata\\local\\programs\\python\\python311\\lib\\site-packages (from tqdm->proglog<=1.0.0->moviepy) (0.4.6)\n"
     ]
    }
   ],
   "source": [
    "!pip install moviepy"
   ]
  },
  {
   "cell_type": "code",
   "execution_count": 10,
   "id": "411e5f74",
   "metadata": {},
   "outputs": [
    {
     "name": "stdout",
     "output_type": "stream",
     "text": [
      "Proses: الأربعون الشبابية.epub\n",
      "Proses: اللآليء المكية من كلام خير البرية.epub\n",
      "Proses: بداية القاري في ختم صحيح البخاري -.epub\n",
      "Proses: تيسير اللطيف المنان في خلاصة تفسير القرآن - ط الأوقاف السعودية.epub\n",
      "Proses: معالم السنة النبوية -.epub\n",
      "Preprocessing selesai. File disimpan di: output/cleaned_text\n"
     ]
    }
   ],
   "source": [
    "import os\n",
    "import re\n",
    "import json\n",
    "import ebooklib\n",
    "from ebooklib import epub\n",
    "from bs4 import BeautifulSoup\n",
    "\n",
    "# --- Fungsi ekstraksi teks dari satu ePub ---\n",
    "def extract_text_from_epub(file_path):\n",
    "    book = epub.read_epub(file_path)\n",
    "    text = ''\n",
    "    for item in book.get_items():\n",
    "        if item.get_type() == ebooklib.ITEM_DOCUMENT:\n",
    "            soup = BeautifulSoup(item.content, 'html.parser')\n",
    "            text += soup.get_text()\n",
    "    return text\n",
    "\n",
    "# --- Fungsi cleaning teks ---\n",
    "def clean_text(raw_text):\n",
    "    text = raw_text.replace('\\xa0', ' ').replace('\\u200f', '')  # Karakter khusus\n",
    "    text = re.sub(r'\\s+', ' ', text)  # Hapus spasi ganda, baris kosong\n",
    "    text = text.strip()\n",
    "    return text\n",
    "\n",
    "# --- Fungsi split teks jadi chunk (untuk LLM/analisis selanjutnya) ---\n",
    "def split_into_chunks(text, max_words=500):\n",
    "    words = text.split()\n",
    "    chunks = [' '.join(words[i:i + max_words]) for i in range(0, len(words), max_words)]\n",
    "    return chunks\n",
    "\n",
    "# --- Fungsi utama untuk banyak file ePub ---\n",
    "def process_all_epubs(epub_folder, output_folder):\n",
    "    os.makedirs(output_folder, exist_ok=True)\n",
    "    results = {}  # Semua hasil ke dict\n",
    "\n",
    "    for filename in os.listdir(epub_folder):\n",
    "        if filename.endswith(\".epub\"):\n",
    "            book_id = os.path.splitext(filename)[0]\n",
    "            print(f\"Proses: {filename}\")\n",
    "\n",
    "            full_path = os.path.join(epub_folder, filename)\n",
    "            raw_text = extract_text_from_epub(full_path)\n",
    "            cleaned_text = clean_text(raw_text)\n",
    "            chunks = split_into_chunks(cleaned_text, max_words=500)\n",
    "\n",
    "            # Simpan ke .txt\n",
    "            output_txt = os.path.join(output_folder, f\"{book_id}.txt\")\n",
    "            with open(output_txt, \"w\", encoding=\"utf-8\") as f:\n",
    "                for i, chunk in enumerate(chunks):\n",
    "                    f.write(f\"[Chunk {i+1}]\\n{chunk}\\n\\n\")\n",
    "\n",
    "            # Simpan ke dict\n",
    "            results[book_id] = chunks\n",
    "\n",
    "    # Simpan semua ke satu file .json\n",
    "    output_json = os.path.join(output_folder, \"epub_chunks.json\")\n",
    "    with open(output_json, \"w\", encoding=\"utf-8\") as f:\n",
    "        json.dump(results, f, ensure_ascii=False, indent=2)\n",
    "\n",
    "    print(\"Preprocessing selesai. File disimpan di:\", output_folder)\n",
    "\n",
    "# --- Jalankan program ---\n",
    "epub_input_folder = \"epubs\"  # Ganti sesuai folder kamu\n",
    "output_clean_folder = \"output/cleaned_text\"\n",
    "process_all_epubs(epub_input_folder, output_clean_folder)\n"
   ]
  }
 ],
 "metadata": {
  "kernelspec": {
   "display_name": "Python 3",
   "language": "python",
   "name": "python3"
  },
  "language_info": {
   "codemirror_mode": {
    "name": "ipython",
    "version": 3
   },
   "file_extension": ".py",
   "mimetype": "text/x-python",
   "name": "python",
   "nbconvert_exporter": "python",
   "pygments_lexer": "ipython3",
   "version": "3.11.2"
  }
 },
 "nbformat": 4,
 "nbformat_minor": 5
}
